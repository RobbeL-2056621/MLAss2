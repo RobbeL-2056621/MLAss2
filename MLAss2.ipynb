{
 "cells": [
  {
   "cell_type": "markdown",
   "source": [
    "First we make a classifier based on the not augmented data:"
   ],
   "metadata": {
    "collapsed": false
   },
   "id": "ab81e19e58cf5ed1"
  },
  {
   "cell_type": "code",
   "execution_count": null,
   "id": "initial_id",
   "metadata": {
    "collapsed": true
   },
   "outputs": [],
   "source": []
  }
 ],
 "metadata": {
  "kernelspec": {
   "display_name": "Python 3",
   "language": "python",
   "name": "python3"
  },
  "language_info": {
   "codemirror_mode": {
    "name": "ipython",
    "version": 2
   },
   "file_extension": ".py",
   "mimetype": "text/x-python",
   "name": "python",
   "nbconvert_exporter": "python",
   "pygments_lexer": "ipython2",
   "version": "2.7.6"
  }
 },
 "nbformat": 4,
 "nbformat_minor": 5
}
