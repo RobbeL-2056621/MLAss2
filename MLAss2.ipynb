{
 "cells": [
  {
   "cell_type": "markdown",
   "source": [
    "Preprocessing"
   ],
   "metadata": {
    "collapsed": false
   },
   "id": "c1c04dfa1f4a4646"
  },
  {
   "cell_type": "code",
   "execution_count": 52,
   "outputs": [],
   "source": [
    "import skimage as ski\n",
    "import numpy as np\n",
    "import os\n",
    "from skimage.transform import rescale, resize, downscale_local_mean\n",
    "\n",
    "data = []\n",
    "labels = []\n",
    "\n",
    "label = 0\n",
    "\n",
    "for folder in os.listdir(\"Datasets/unsynth\"):\n",
    "    # nb = 0\n",
    "    for file in os.listdir(\"Datasets/unsynth/\" + folder):\n",
    "        # nb += 1\n",
    "        # if nb >= 10:\n",
    "        #     break\n",
    "        img = ski.io.imread(\"Datasets/unsynth/\" + folder + \"/\" + file)\n",
    "        imgResized = resize(img, (1000,1000))\n",
    "        prep = imgResized.astype(float)\n",
    "        prep = np.ndarray.flatten(prep)\n",
    "        data.append(prep)\n",
    "        labels.append(label)\n",
    "    label+=1"
   ],
   "metadata": {
    "collapsed": false,
    "ExecuteTime": {
     "end_time": "2024-04-02T10:07:21.054431100Z",
     "start_time": "2024-04-02T10:04:59.135478100Z"
    }
   },
   "id": "d6dad156ec980f34"
  },
  {
   "cell_type": "markdown",
   "source": [
    "First we make a classifier based on the not augmented data:"
   ],
   "metadata": {
    "collapsed": false
   },
   "id": "ab81e19e58cf5ed1"
  },
  {
   "cell_type": "code",
   "execution_count": 53,
   "outputs": [
    {
     "data": {
      "text/plain": "203"
     },
     "execution_count": 53,
     "metadata": {},
     "output_type": "execute_result"
    }
   ],
   "source": [
    "len(data)"
   ],
   "metadata": {
    "collapsed": false,
    "ExecuteTime": {
     "end_time": "2024-04-02T10:07:21.086117300Z",
     "start_time": "2024-04-02T10:07:21.064883100Z"
    }
   },
   "id": "28d9cd43be5f011b"
  },
  {
   "cell_type": "code",
   "execution_count": 54,
   "id": "initial_id",
   "metadata": {
    "collapsed": true,
    "ExecuteTime": {
     "end_time": "2024-04-02T10:13:38.205321700Z",
     "start_time": "2024-04-02T10:07:21.083834400Z"
    }
   },
   "outputs": [
    {
     "name": "stderr",
     "output_type": "stream",
     "text": [
      "C:\\Anaconda\\envs\\ML\\Lib\\site-packages\\sklearn\\neural_network\\_multilayer_perceptron.py:691: ConvergenceWarning: Stochastic Optimizer: Maximum iterations (50) reached and the optimization hasn't converged yet.\n",
      "  warnings.warn(\n",
      "C:\\Anaconda\\envs\\ML\\Lib\\site-packages\\sklearn\\metrics\\_classification.py:1509: UndefinedMetricWarning: Precision is ill-defined and being set to 0.0 in labels with no predicted samples. Use `zero_division` parameter to control this behavior.\n",
      "  _warn_prf(average, modifier, f\"{metric.capitalize()} is\", len(result))\n",
      "C:\\Anaconda\\envs\\ML\\Lib\\site-packages\\sklearn\\metrics\\_classification.py:1509: UndefinedMetricWarning: Precision is ill-defined and being set to 0.0 in labels with no predicted samples. Use `zero_division` parameter to control this behavior.\n",
      "  _warn_prf(average, modifier, f\"{metric.capitalize()} is\", len(result))\n",
      "C:\\Anaconda\\envs\\ML\\Lib\\site-packages\\sklearn\\metrics\\_classification.py:1509: UndefinedMetricWarning: Precision is ill-defined and being set to 0.0 in labels with no predicted samples. Use `zero_division` parameter to control this behavior.\n",
      "  _warn_prf(average, modifier, f\"{metric.capitalize()} is\", len(result))\n"
     ]
    },
    {
     "data": {
      "text/plain": "'              precision    recall  f1-score   support\\n\\n           0       0.22      1.00      0.36         9\\n           1       0.00      0.00      0.00        12\\n           2       0.00      0.00      0.00        11\\n           3       0.00      0.00      0.00         9\\n\\n    accuracy                           0.22        41\\n   macro avg       0.05      0.25      0.09        41\\nweighted avg       0.05      0.22      0.08        41\\n'"
     },
     "execution_count": 54,
     "metadata": {},
     "output_type": "execute_result"
    }
   ],
   "source": [
    "import sklearn as sk\n",
    "from sklearn.neural_network import MLPClassifier\n",
    "from sklearn.model_selection import train_test_split\n",
    "from sklearn.metrics import accuracy_score\n",
    "from sklearn.metrics import classification_report\n",
    "\n",
    "trainData, testData, trainLabel, testLabel = train_test_split(data, labels, test_size=0.2, random_state=2056621)\n",
    "\n",
    "clf = MLPClassifier(alpha=1e-5, hidden_layer_sizes=(5, 2), random_state=2056621, max_iter=50)\n",
    "clf.fit(trainData, trainLabel)\n",
    "\n",
    "predLabel = clf.predict(testData)\n",
    "\n",
    "classification_report(testLabel, predLabel)"
   ]
  },
  {
   "cell_type": "markdown",
   "source": [],
   "metadata": {
    "collapsed": false
   },
   "id": "1c5e3bc19f3e6828"
  }
 ],
 "metadata": {
  "kernelspec": {
   "display_name": "Python 3",
   "language": "python",
   "name": "python3"
  },
  "language_info": {
   "codemirror_mode": {
    "name": "ipython",
    "version": 2
   },
   "file_extension": ".py",
   "mimetype": "text/x-python",
   "name": "python",
   "nbconvert_exporter": "python",
   "pygments_lexer": "ipython2",
   "version": "2.7.6"
  }
 },
 "nbformat": 4,
 "nbformat_minor": 5
}
